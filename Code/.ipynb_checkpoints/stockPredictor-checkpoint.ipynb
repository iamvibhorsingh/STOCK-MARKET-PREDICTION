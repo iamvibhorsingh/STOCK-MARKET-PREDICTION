{
 "cells": [
  {
   "cell_type": "code",
   "execution_count": 19,
   "metadata": {},
   "outputs": [],
   "source": [
    "from __future__ import print_function\n",
    "from pyspark.ml.feature import MinMaxScaler\n",
    "from pyspark.sql import SparkSession\n",
    "from pyspark.sql import functions as F\n",
    "from pyspark.sql.window import Window\n",
    "from pyspark.sql.functions import percent_rank\n",
    "from pyspark.ml import Pipeline\n",
    "import matplotlib.pyplot as plt\n",
    "from pyspark.ml.feature import VectorAssembler\n",
    "import numpy as np\n",
    "from sagemaker.predictor import csv_serializer \n",
    "from pyspark.sql.types import DoubleType\n",
    "from sklearn.metrics import mean_squared_error\n",
    "from sklearn.metrics import r2_score\n",
    "from math import sqrt"
   ]
  },
  {
   "cell_type": "code",
   "execution_count": 20,
   "metadata": {},
   "outputs": [],
   "source": [
    "if __name__ == \"__main__\":\n",
    "    spark = SparkSession\\\n",
    "        .builder\\\n",
    "        .appName(\"demo\")\\\n",
    "        .getOrCreate()"
   ]
  },
  {
   "cell_type": "markdown",
   "metadata": {},
   "source": [
    "# Reading data from csv"
   ]
  },
  {
   "cell_type": "code",
   "execution_count": 21,
   "metadata": {},
   "outputs": [],
   "source": [
    "df = spark.read.format(\"csv\").option(\"header\", \"true\").load(\"stocks_data.csv\")"
   ]
  },
  {
   "cell_type": "code",
   "execution_count": 22,
   "metadata": {},
   "outputs": [],
   "source": [
    "w = Window.partitionBy().orderBy(\"timestamp\")\n",
    "n = 1 #Horizon\n",
    "df = df.withColumn('diffOpenClose',df.open-df.close)\n",
    "df = df.withColumn('diffHighLow',df.high-df.low)\n",
    "df = df.withColumn(\"rank\", percent_rank().over(Window.partitionBy().orderBy(\"timestamp\")))\n",
    "df = df.withColumn('target', F.when(F.lag(df.close + n).over(w)<df.close, 1).otherwise(0))\n",
    "\n",
    "categoricalColumns = ['high','low', 'open','close']\n",
    "\n",
    "df = df.drop('timestamp')"
   ]
  },
  {
   "cell_type": "markdown",
   "metadata": {},
   "source": [
    "# Converting string type to double"
   ]
  },
  {
   "cell_type": "code",
   "execution_count": 23,
   "metadata": {},
   "outputs": [],
   "source": [
    "df = df.withColumn(\"volume\", df[\"volume\"].cast(DoubleType()))\n",
    "df = df.withColumn(\"open\", df[\"open\"].cast(DoubleType()))\n",
    "df = df.withColumn(\"high\", df[\"high\"].cast(DoubleType()))\n",
    "df = df.withColumn(\"low\", df[\"low\"].cast(DoubleType()))\n",
    "df = df.withColumn(\"close\", df[\"close\"].cast(DoubleType()))"
   ]
  },
  {
   "cell_type": "markdown",
   "metadata": {},
   "source": [
    "# Log transformation\n",
    "\n",
    "###### Since the data is skewed, we apply log transformation"
   ]
  },
  {
   "cell_type": "code",
   "execution_count": 24,
   "metadata": {},
   "outputs": [],
   "source": [
    "d = {}\n",
    "# Fill in the entries one by one\n",
    "for col in df.columns[1:-2]:\n",
    "      d[col] = df.approxQuantile(col,[0.01,0.99],0.25)\n",
    "\n",
    "for col in d.keys():\n",
    "    df_new = df.withColumn(col, F.log(F.when(df[col] < d[col][0],d[col][0]).when(df[col] > d[col][1], d[col][1]).otherwise(df[col]) +1).alias(col))\n",
    "          "
   ]
  },
  {
   "cell_type": "markdown",
   "metadata": {},
   "source": [
    "# Scaling features using standardization"
   ]
  },
  {
   "cell_type": "code",
   "execution_count": 25,
   "metadata": {},
   "outputs": [],
   "source": [
    "assembler = VectorAssembler().setInputCols(df_new.columns).setOutputCol(\"features\")\n",
    "transformed = assembler.transform(df_new)\n",
    "scaler = MinMaxScaler(inputCol=\"features\",outputCol=\"scaledfeatures\")\n",
    "scalerModel =  scaler.fit(transformed.select(\"features\"))\n",
    "scaledData = scalerModel.transform(transformed)"
   ]
  },
  {
   "cell_type": "code",
   "execution_count": 26,
   "metadata": {},
   "outputs": [],
   "source": [
    "def extract(row):\n",
    "    return tuple(row.scaledFeatures.toArray().tolist())\n"
   ]
  },
  {
   "cell_type": "code",
   "execution_count": 27,
   "metadata": {},
   "outputs": [],
   "source": [
    "final_data = scaledData.select(\"scaledFeatures\").rdd.map(extract).toDF(df_new.columns)"
   ]
  },
  {
   "cell_type": "markdown",
   "metadata": {},
   "source": [
    "# Re-arranging dataframe to fir the model needs"
   ]
  },
  {
   "cell_type": "code",
   "execution_count": 28,
   "metadata": {},
   "outputs": [],
   "source": [
    "df = df.select('target',\n",
    " 'open',\n",
    " 'high',\n",
    " 'low',\n",
    " 'close',\n",
    " 'volume',\n",
    " 'diffOpenClose',\n",
    " 'diffHighLow',\n",
    " 'rank')"
   ]
  },
  {
   "cell_type": "markdown",
   "metadata": {},
   "source": [
    "# Splitting dataframe into train and test"
   ]
  },
  {
   "cell_type": "code",
   "execution_count": 29,
   "metadata": {},
   "outputs": [],
   "source": [
    "trainingData = df.where(\"rank <= .8\").drop(\"rank\")\n",
    "testData = df.where(\"rank > .8\").drop(\"rank\")"
   ]
  },
  {
   "cell_type": "markdown",
   "metadata": {},
   "source": [
    "# Exponential Smoothing"
   ]
  },
  {
   "cell_type": "code",
   "execution_count": null,
   "metadata": {},
   "outputs": [],
   "source": [
    "def get_exp_preprocessing(df, alpha=0.9):\n",
    "    edata = df.ewm(alpha=alpha).mean()    \n",
    "    return edata"
   ]
  },
  {
   "cell_type": "markdown",
   "metadata": {},
   "source": [
    "# Saving training and testing data to S3 bucket"
   ]
  },
  {
   "cell_type": "code",
   "execution_count": 33,
   "metadata": {},
   "outputs": [],
   "source": [
    "Xtr = trainingData.toPandas()\n",
    "Xtr = get_exp_preprocessing(Xtr)\n",
    "Xtr.to_csv(header=None, path_or_buf = \"training3.csv\", index=False)\n",
    "testData = testData.toPandas()\n",
    "testData = get_exp_preprocessing(testData)\n",
    "testData.to_csv(header=None,path_or_buf = 'testdata2.csv',index=False)"
   ]
  },
  {
   "cell_type": "markdown",
   "metadata": {},
   "source": [
    "# Prediction model"
   ]
  },
  {
   "cell_type": "code",
   "execution_count": 13,
   "metadata": {},
   "outputs": [],
   "source": [
    "import boto3, re, sys, math, json, os, sagemaker, urllib.request\n",
    "\n",
    "\n",
    "\n",
    "containers = {'us-west-2': '433757028032.dkr.ecr.us-west-2.amazonaws.com/xgboost:latest',\n",
    "              'us-east-1': '811284229777.dkr.ecr.us-east-1.amazonaws.com/xgboost:latest',\n",
    "              'us-east-2': '825641698319.dkr.ecr.us-east-2.amazonaws.com/xgboost:latest',\n",
    "              'eu-west-1': '685385470294.dkr.ecr.eu-west-1.amazonaws.com/xgboost:latest'} # each region has its XGBoost container\n"
   ]
  },
  {
   "cell_type": "code",
   "execution_count": 14,
   "metadata": {},
   "outputs": [],
   "source": [
    "bucket_name = 'bigdataprojnyu'\n",
    "prefix = 'sagemaker/DEMO-xgboost-dm'\n",
    "myregion = \"us-east-1\"\n",
    "containers = {'us-west-2': '433757028032.dkr.ecr.us-west-2.amazonaws.com/xgboost:latest',\n",
    "              'us-east-1': '811284229777.dkr.ecr.us-east-1.amazonaws.com/xgboost:latest',\n",
    "              'us-east-2': '825641698319.dkr.ecr.us-east-2.amazonaws.com/xgboost:latest',\n",
    "              'eu-west-1': '685385470294.dkr.ecr.eu-west-1.amazonaws.com/xgboost:latest'} "
   ]
  },
  {
   "cell_type": "code",
   "execution_count": 15,
   "metadata": {},
   "outputs": [],
   "source": [
    "role = \"arn:aws:iam::566468225241:role/BDA_Sagemaker\"\n",
    "\n",
    "sess = sagemaker.Session()\n",
    "xgb = sagemaker.estimator.Estimator(containers[myregion],role = role, train_instance_count=1, train_instance_type='ml.m4.xlarge',output_path='s3://bigdataprojnyu/output'.format(bucket_name, prefix),sagemaker_session=sess)\n",
    "xgb.set_hyperparameters(max_depth=5,eta=0.2,gamma=4,min_child_weight=6,subsample=0.8,silent=0,objective='binary:logistic',num_round=100)\n"
   ]
  },
  {
   "cell_type": "code",
   "execution_count": 16,
   "metadata": {},
   "outputs": [],
   "source": [
    "s3_input_train = sagemaker.s3_input(s3_data='s3://{}/train'.format(bucket_name), content_type='csv')"
   ]
  },
  {
   "cell_type": "code",
   "execution_count": 42,
   "metadata": {},
   "outputs": [
    {
     "name": "stdout",
     "output_type": "stream",
     "text": [
      "2019-05-16 05:51:34 Starting - Starting the training job...\n",
      "2019-05-16 05:51:35 Starting - Launching requested ML instances......\n",
      "2019-05-16 05:52:47 Starting - Preparing the instances for training......\n",
      "2019-05-16 05:53:55 Downloading - Downloading input data...\n",
      "2019-05-16 05:54:30 Training - Training image download completed. Training in progress.\n",
      "2019-05-16 05:54:30 Uploading - Uploading generated training model.\n",
      "\u001b[31mArguments: train\u001b[0m\n",
      "\u001b[31m[2019-05-16:05:54:28:INFO] Running standalone xgboost training.\u001b[0m\n",
      "\u001b[31m[2019-05-16:05:54:28:INFO] Path /opt/ml/input/data/validation does not exist!\u001b[0m\n",
      "\u001b[31m[2019-05-16:05:54:28:INFO] File size need to be processed in the node: 0.3mb. Available memory size in the node: 8425.14mb\u001b[0m\n",
      "\u001b[31m[2019-05-16:05:54:28:INFO] Determined delimiter of CSV input is ','\u001b[0m\n",
      "\u001b[31m[05:54:28] S3DistributionType set as FullyReplicated\u001b[0m\n",
      "\u001b[31m[05:54:28] 4300x7 matrix with 30100 entries loaded from /opt/ml/input/data/train?format=csv&label_column=0&delimiter=,\u001b[0m\n",
      "\u001b[31m[05:54:28] src/tree/updater_prune.cc:74: tree pruning end, 1 roots, 32 extra nodes, 12 pruned nodes, max_depth=5\u001b[0m\n",
      "\u001b[31m[0]#011train-error:0.147442\u001b[0m\n",
      "\u001b[31m[05:54:28] src/tree/updater_prune.cc:74: tree pruning end, 1 roots, 24 extra nodes, 24 pruned nodes, max_depth=5\u001b[0m\n",
      "\u001b[31m[1]#011train-error:0.145116\u001b[0m\n",
      "\u001b[31m[05:54:28] src/tree/updater_prune.cc:74: tree pruning end, 1 roots, 30 extra nodes, 18 pruned nodes, max_depth=5\u001b[0m\n",
      "\u001b[31m[2]#011train-error:0.147674\u001b[0m\n",
      "\u001b[31m[05:54:28] src/tree/updater_prune.cc:74: tree pruning end, 1 roots, 30 extra nodes, 20 pruned nodes, max_depth=5\u001b[0m\n",
      "\u001b[31m[3]#011train-error:0.146512\u001b[0m\n",
      "\u001b[31m[05:54:28] src/tree/updater_prune.cc:74: tree pruning end, 1 roots, 26 extra nodes, 22 pruned nodes, max_depth=5\u001b[0m\n",
      "\u001b[31m[4]#011train-error:0.146512\u001b[0m\n",
      "\u001b[31m[05:54:28] src/tree/updater_prune.cc:74: tree pruning end, 1 roots, 22 extra nodes, 22 pruned nodes, max_depth=5\u001b[0m\n",
      "\u001b[31m[5]#011train-error:0.145349\u001b[0m\n",
      "\u001b[31m[05:54:28] src/tree/updater_prune.cc:74: tree pruning end, 1 roots, 26 extra nodes, 24 pruned nodes, max_depth=5\u001b[0m\n",
      "\u001b[31m[6]#011train-error:0.143721\u001b[0m\n",
      "\u001b[31m[05:54:28] src/tree/updater_prune.cc:74: tree pruning end, 1 roots, 32 extra nodes, 16 pruned nodes, max_depth=5\u001b[0m\n",
      "\u001b[31m[7]#011train-error:0.143256\u001b[0m\n",
      "\u001b[31m[05:54:28] src/tree/updater_prune.cc:74: tree pruning end, 1 roots, 30 extra nodes, 18 pruned nodes, max_depth=5\u001b[0m\n",
      "\u001b[31m[8]#011train-error:0.142791\u001b[0m\n",
      "\u001b[31m[05:54:28] src/tree/updater_prune.cc:74: tree pruning end, 1 roots, 14 extra nodes, 28 pruned nodes, max_depth=4\u001b[0m\n",
      "\u001b[31m[9]#011train-error:0.142326\u001b[0m\n",
      "\u001b[31m[05:54:28] src/tree/updater_prune.cc:74: tree pruning end, 1 roots, 32 extra nodes, 10 pruned nodes, max_depth=5\u001b[0m\n",
      "\u001b[31m[10]#011train-error:0.143721\u001b[0m\n",
      "\u001b[31m[05:54:28] src/tree/updater_prune.cc:74: tree pruning end, 1 roots, 26 extra nodes, 22 pruned nodes, max_depth=5\u001b[0m\n",
      "\u001b[31m[11]#011train-error:0.142791\u001b[0m\n",
      "\u001b[31m[05:54:28] src/tree/updater_prune.cc:74: tree pruning end, 1 roots, 28 extra nodes, 14 pruned nodes, max_depth=5\u001b[0m\n",
      "\u001b[31m[12]#011train-error:0.142791\u001b[0m\n",
      "\u001b[31m[05:54:28] src/tree/updater_prune.cc:74: tree pruning end, 1 roots, 24 extra nodes, 20 pruned nodes, max_depth=5\u001b[0m\n",
      "\u001b[31m[13]#011train-error:0.142791\u001b[0m\n",
      "\u001b[31m[05:54:28] src/tree/updater_prune.cc:74: tree pruning end, 1 roots, 12 extra nodes, 32 pruned nodes, max_depth=4\u001b[0m\n",
      "\u001b[31m[14]#011train-error:0.14\u001b[0m\n",
      "\u001b[31m[05:54:28] src/tree/updater_prune.cc:74: tree pruning end, 1 roots, 20 extra nodes, 18 pruned nodes, max_depth=5\u001b[0m\n",
      "\u001b[31m[15]#011train-error:0.139767\u001b[0m\n",
      "\u001b[31m[05:54:28] src/tree/updater_prune.cc:74: tree pruning end, 1 roots, 18 extra nodes, 18 pruned nodes, max_depth=5\u001b[0m\n",
      "\u001b[31m[16]#011train-error:0.139767\u001b[0m\n",
      "\u001b[31m[05:54:28] src/tree/updater_prune.cc:74: tree pruning end, 1 roots, 14 extra nodes, 16 pruned nodes, max_depth=5\u001b[0m\n",
      "\u001b[31m[17]#011train-error:0.140233\u001b[0m\n",
      "\u001b[31m[05:54:28] src/tree/updater_prune.cc:74: tree pruning end, 1 roots, 22 extra nodes, 12 pruned nodes, max_depth=5\u001b[0m\n",
      "\u001b[31m[18]#011train-error:0.138372\u001b[0m\n",
      "\u001b[31m[05:54:28] src/tree/updater_prune.cc:74: tree pruning end, 1 roots, 16 extra nodes, 12 pruned nodes, max_depth=5\u001b[0m\n",
      "\u001b[31m[19]#011train-error:0.137907\u001b[0m\n",
      "\u001b[31m[05:54:28] src/tree/updater_prune.cc:74: tree pruning end, 1 roots, 10 extra nodes, 6 pruned nodes, max_depth=5\u001b[0m\n",
      "\u001b[31m[20]#011train-error:0.137674\u001b[0m\n",
      "\u001b[31m[05:54:28] src/tree/updater_prune.cc:74: tree pruning end, 1 roots, 20 extra nodes, 10 pruned nodes, max_depth=5\u001b[0m\n",
      "\u001b[31m[21]#011train-error:0.136279\u001b[0m\n",
      "\u001b[31m[05:54:28] src/tree/updater_prune.cc:74: tree pruning end, 1 roots, 10 extra nodes, 10 pruned nodes, max_depth=4\u001b[0m\n",
      "\u001b[31m[22]#011train-error:0.136279\u001b[0m\n",
      "\u001b[31m[05:54:28] src/tree/updater_prune.cc:74: tree pruning end, 1 roots, 10 extra nodes, 10 pruned nodes, max_depth=5\u001b[0m\n",
      "\u001b[31m[23]#011train-error:0.136512\u001b[0m\n",
      "\u001b[31m[05:54:28] src/tree/updater_prune.cc:74: tree pruning end, 1 roots, 8 extra nodes, 18 pruned nodes, max_depth=4\u001b[0m\n",
      "\u001b[31m[24]#011train-error:0.136512\u001b[0m\n",
      "\u001b[31m[05:54:28] src/tree/updater_prune.cc:74: tree pruning end, 1 roots, 20 extra nodes, 14 pruned nodes, max_depth=5\u001b[0m\n",
      "\u001b[31m[25]#011train-error:0.136279\u001b[0m\n",
      "\u001b[31m[05:54:28] src/tree/updater_prune.cc:74: tree pruning end, 1 roots, 12 extra nodes, 6 pruned nodes, max_depth=4\u001b[0m\n",
      "\u001b[31m[26]#011train-error:0.136512\u001b[0m\n",
      "\u001b[31m[05:54:28] src/tree/updater_prune.cc:74: tree pruning end, 1 roots, 6 extra nodes, 10 pruned nodes, max_depth=3\u001b[0m\n",
      "\u001b[31m[27]#011train-error:0.136279\u001b[0m\n",
      "\u001b[31m[05:54:28] src/tree/updater_prune.cc:74: tree pruning end, 1 roots, 0 extra nodes, 12 pruned nodes, max_depth=0\u001b[0m\n",
      "\u001b[31m[28]#011train-error:0.136512\u001b[0m\n",
      "\u001b[31m[05:54:28] src/tree/updater_prune.cc:74: tree pruning end, 1 roots, 16 extra nodes, 18 pruned nodes, max_depth=5\u001b[0m\n",
      "\u001b[31m[29]#011train-error:0.135349\u001b[0m\n",
      "\u001b[31m[05:54:28] src/tree/updater_prune.cc:74: tree pruning end, 1 roots, 10 extra nodes, 6 pruned nodes, max_depth=4\u001b[0m\n",
      "\u001b[31m[30]#011train-error:0.135581\u001b[0m\n",
      "\u001b[31m[05:54:28] src/tree/updater_prune.cc:74: tree pruning end, 1 roots, 16 extra nodes, 10 pruned nodes, max_depth=5\u001b[0m\n",
      "\u001b[31m[31]#011train-error:0.134884\u001b[0m\n",
      "\u001b[31m[05:54:28] src/tree/updater_prune.cc:74: tree pruning end, 1 roots, 12 extra nodes, 12 pruned nodes, max_depth=5\u001b[0m\n",
      "\u001b[31m[32]#011train-error:0.134419\u001b[0m\n",
      "\u001b[31m[05:54:28] src/tree/updater_prune.cc:74: tree pruning end, 1 roots, 6 extra nodes, 14 pruned nodes, max_depth=3\u001b[0m\n",
      "\u001b[31m[33]#011train-error:0.135116\u001b[0m\n",
      "\u001b[31m[05:54:28] src/tree/updater_prune.cc:74: tree pruning end, 1 roots, 6 extra nodes, 6 pruned nodes, max_depth=3\u001b[0m\n",
      "\u001b[31m[34]#011train-error:0.134884\u001b[0m\n",
      "\u001b[31m[05:54:28] src/tree/updater_prune.cc:74: tree pruning end, 1 roots, 16 extra nodes, 10 pruned nodes, max_depth=5\u001b[0m\n",
      "\u001b[31m[35]#011train-error:0.133721\u001b[0m\n",
      "\u001b[31m[05:54:28] src/tree/updater_prune.cc:74: tree pruning end, 1 roots, 16 extra nodes, 8 pruned nodes, max_depth=5\u001b[0m\n",
      "\u001b[31m[36]#011train-error:0.132558\u001b[0m\n",
      "\u001b[31m[05:54:28] src/tree/updater_prune.cc:74: tree pruning end, 1 roots, 8 extra nodes, 8 pruned nodes, max_depth=3\u001b[0m\n",
      "\u001b[31m[37]#011train-error:0.133023\u001b[0m\n",
      "\u001b[31m[05:54:28] src/tree/updater_prune.cc:74: tree pruning end, 1 roots, 4 extra nodes, 18 pruned nodes, max_depth=2\u001b[0m\n",
      "\u001b[31m[38]#011train-error:0.133023\u001b[0m\n",
      "\u001b[31m[05:54:28] src/tree/updater_prune.cc:74: tree pruning end, 1 roots, 10 extra nodes, 8 pruned nodes, max_depth=4\u001b[0m\n",
      "\u001b[31m[39]#011train-error:0.132791\u001b[0m\n",
      "\u001b[31m[05:54:28] src/tree/updater_prune.cc:74: tree pruning end, 1 roots, 18 extra nodes, 10 pruned nodes, max_depth=5\u001b[0m\n",
      "\u001b[31m[40]#011train-error:0.133256\u001b[0m\n",
      "\u001b[31m[05:54:28] src/tree/updater_prune.cc:74: tree pruning end, 1 roots, 4 extra nodes, 12 pruned nodes, max_depth=2\u001b[0m\n",
      "\u001b[31m[41]#011train-error:0.134186\u001b[0m\n",
      "\u001b[31m[05:54:28] src/tree/updater_prune.cc:74: tree pruning end, 1 roots, 12 extra nodes, 26 pruned nodes, max_depth=5\u001b[0m\n",
      "\u001b[31m[42]#011train-error:0.133023\u001b[0m\n",
      "\u001b[31m[05:54:28] src/tree/updater_prune.cc:74: tree pruning end, 1 roots, 10 extra nodes, 34 pruned nodes, max_depth=5\u001b[0m\n",
      "\u001b[31m[43]#011train-error:0.133256\u001b[0m\n",
      "\u001b[31m[05:54:28] src/tree/updater_prune.cc:74: tree pruning end, 1 roots, 0 extra nodes, 14 pruned nodes, max_depth=0\u001b[0m\n",
      "\u001b[31m[44]#011train-error:0.133023\u001b[0m\n",
      "\u001b[31m[05:54:28] src/tree/updater_prune.cc:74: tree pruning end, 1 roots, 10 extra nodes, 16 pruned nodes, max_depth=3\u001b[0m\n",
      "\u001b[31m[45]#011train-error:0.133023\u001b[0m\n",
      "\u001b[31m[05:54:28] src/tree/updater_prune.cc:74: tree pruning end, 1 roots, 18 extra nodes, 4 pruned nodes, max_depth=5\u001b[0m\n",
      "\u001b[31m[46]#011train-error:0.132093\u001b[0m\n",
      "\u001b[31m[05:54:28] src/tree/updater_prune.cc:74: tree pruning end, 1 roots, 0 extra nodes, 24 pruned nodes, max_depth=0\u001b[0m\n",
      "\u001b[31m[47]#011train-error:0.131628\u001b[0m\n",
      "\u001b[31m[05:54:28] src/tree/updater_prune.cc:74: tree pruning end, 1 roots, 22 extra nodes, 6 pruned nodes, max_depth=5\u001b[0m\n",
      "\u001b[31m[48]#011train-error:0.131163\u001b[0m\n",
      "\u001b[31m[05:54:28] src/tree/updater_prune.cc:74: tree pruning end, 1 roots, 10 extra nodes, 4 pruned nodes, max_depth=4\u001b[0m\n",
      "\u001b[31m[49]#011train-error:0.130465\u001b[0m\n",
      "\u001b[31m[05:54:28] src/tree/updater_prune.cc:74: tree pruning end, 1 roots, 4 extra nodes, 10 pruned nodes, max_depth=2\u001b[0m\n",
      "\u001b[31m[50]#011train-error:0.130233\u001b[0m\n",
      "\u001b[31m[05:54:28] src/tree/updater_prune.cc:74: tree pruning end, 1 roots, 0 extra nodes, 24 pruned nodes, max_depth=0\u001b[0m\n",
      "\u001b[31m[51]#011train-error:0.13\u001b[0m\n",
      "\u001b[31m[05:54:28] src/tree/updater_prune.cc:74: tree pruning end, 1 roots, 0 extra nodes, 12 pruned nodes, max_depth=0\u001b[0m\n",
      "\u001b[31m[52]#011train-error:0.130233\u001b[0m\n",
      "\u001b[31m[05:54:28] src/tree/updater_prune.cc:74: tree pruning end, 1 roots, 14 extra nodes, 12 pruned nodes, max_depth=5\u001b[0m\n",
      "\u001b[31m[53]#011train-error:0.128837\u001b[0m\n",
      "\u001b[31m[05:54:28] src/tree/updater_prune.cc:74: tree pruning end, 1 roots, 10 extra nodes, 6 pruned nodes, max_depth=5\u001b[0m\n",
      "\u001b[31m[54]#011train-error:0.127442\u001b[0m\n",
      "\u001b[31m[05:54:28] src/tree/updater_prune.cc:74: tree pruning end, 1 roots, 0 extra nodes, 14 pruned nodes, max_depth=0\u001b[0m\n",
      "\u001b[31m[55]#011train-error:0.127442\u001b[0m\n",
      "\u001b[31m[05:54:28] src/tree/updater_prune.cc:74: tree pruning end, 1 roots, 10 extra nodes, 10 pruned nodes, max_depth=5\u001b[0m\n",
      "\u001b[31m[56]#011train-error:0.127442\u001b[0m\n",
      "\u001b[31m[05:54:28] src/tree/updater_prune.cc:74: tree pruning end, 1 roots, 4 extra nodes, 12 pruned nodes, max_depth=2\u001b[0m\n",
      "\u001b[31m[57]#011train-error:0.126977\u001b[0m\n",
      "\u001b[31m[05:54:28] src/tree/updater_prune.cc:74: tree pruning end, 1 roots, 8 extra nodes, 12 pruned nodes, max_depth=4\u001b[0m\n",
      "\u001b[31m[58]#011train-error:0.127674\u001b[0m\n",
      "\u001b[31m[05:54:28] src/tree/updater_prune.cc:74: tree pruning end, 1 roots, 0 extra nodes, 16 pruned nodes, max_depth=0\u001b[0m\n",
      "\u001b[31m[59]#011train-error:0.127674\u001b[0m\n",
      "\u001b[31m[05:54:28] src/tree/updater_prune.cc:74: tree pruning end, 1 roots, 4 extra nodes, 22 pruned nodes, max_depth=2\u001b[0m\n",
      "\u001b[31m[60]#011train-error:0.126977\u001b[0m\n",
      "\u001b[31m[05:54:28] src/tree/updater_prune.cc:74: tree pruning end, 1 roots, 0 extra nodes, 14 pruned nodes, max_depth=0\u001b[0m\n",
      "\u001b[31m[61]#011train-error:0.127209\u001b[0m\n",
      "\u001b[31m[05:54:28] src/tree/updater_prune.cc:74: tree pruning end, 1 roots, 0 extra nodes, 16 pruned nodes, max_depth=0\u001b[0m\n",
      "\u001b[31m[62]#011train-error:0.127674\u001b[0m\n",
      "\u001b[31m[05:54:28] src/tree/updater_prune.cc:74: tree pruning end, 1 roots, 10 extra nodes, 6 pruned nodes, max_depth=5\u001b[0m\n",
      "\u001b[31m[63]#011train-error:0.126512\u001b[0m\n",
      "\u001b[31m[05:54:28] src/tree/updater_prune.cc:74: tree pruning end, 1 roots, 12 extra nodes, 16 pruned nodes, max_depth=5\u001b[0m\n",
      "\u001b[31m[64]#011train-error:0.126512\u001b[0m\n",
      "\u001b[31m[05:54:28] src/tree/updater_prune.cc:74: tree pruning end, 1 roots, 0 extra nodes, 12 pruned nodes, max_depth=0\u001b[0m\n",
      "\u001b[31m[65]#011train-error:0.126744\u001b[0m\n",
      "\u001b[31m[05:54:28] src/tree/updater_prune.cc:74: tree pruning end, 1 roots, 12 extra nodes, 10 pruned nodes, max_depth=5\u001b[0m\n",
      "\u001b[31m[66]#011train-error:0.126512\u001b[0m\n",
      "\u001b[31m[05:54:28] src/tree/updater_prune.cc:74: tree pruning end, 1 roots, 8 extra nodes, 16 pruned nodes, max_depth=4\u001b[0m\n",
      "\u001b[31m[67]#011train-error:0.126512\u001b[0m\n",
      "\u001b[31m[05:54:28] src/tree/updater_prune.cc:74: tree pruning end, 1 roots, 16 extra nodes, 14 pruned nodes, max_depth=5\u001b[0m\n",
      "\u001b[31m[68]#011train-error:0.126512\u001b[0m\n",
      "\u001b[31m[05:54:28] src/tree/updater_prune.cc:74: tree pruning end, 1 roots, 6 extra nodes, 6 pruned nodes, max_depth=3\u001b[0m\n",
      "\u001b[31m[69]#011train-error:0.125349\u001b[0m\n",
      "\u001b[31m[05:54:28] src/tree/updater_prune.cc:74: tree pruning end, 1 roots, 12 extra nodes, 10 pruned nodes, max_depth=5\u001b[0m\n",
      "\u001b[31m[70]#011train-error:0.124651\u001b[0m\n",
      "\u001b[31m[05:54:28] src/tree/updater_prune.cc:74: tree pruning end, 1 roots, 10 extra nodes, 18 pruned nodes, max_depth=5\u001b[0m\n",
      "\u001b[31m[71]#011train-error:0.123953\u001b[0m\n",
      "\u001b[31m[05:54:29] src/tree/updater_prune.cc:74: tree pruning end, 1 roots, 14 extra nodes, 4 pruned nodes, max_depth=5\u001b[0m\n",
      "\u001b[31m[72]#011train-error:0.124186\u001b[0m\n",
      "\u001b[31m[05:54:29] src/tree/updater_prune.cc:74: tree pruning end, 1 roots, 10 extra nodes, 6 pruned nodes, max_depth=5\u001b[0m\n",
      "\u001b[31m[73]#011train-error:0.124419\u001b[0m\n",
      "\u001b[31m[05:54:29] src/tree/updater_prune.cc:74: tree pruning end, 1 roots, 12 extra nodes, 8 pruned nodes, max_depth=4\u001b[0m\n",
      "\u001b[31m[74]#011train-error:0.124651\u001b[0m\n",
      "\u001b[31m[05:54:29] src/tree/updater_prune.cc:74: tree pruning end, 1 roots, 0 extra nodes, 26 pruned nodes, max_depth=0\u001b[0m\n",
      "\u001b[31m[75]#011train-error:0.124419\u001b[0m\n",
      "\u001b[31m[05:54:29] src/tree/updater_prune.cc:74: tree pruning end, 1 roots, 4 extra nodes, 10 pruned nodes, max_depth=2\u001b[0m\n",
      "\u001b[31m[76]#011train-error:0.124884\u001b[0m\n",
      "\u001b[31m[05:54:29] src/tree/updater_prune.cc:74: tree pruning end, 1 roots, 10 extra nodes, 2 pruned nodes, max_depth=5\u001b[0m\n",
      "\u001b[31m[77]#011train-error:0.124651\u001b[0m\n",
      "\u001b[31m[05:54:29] src/tree/updater_prune.cc:74: tree pruning end, 1 roots, 10 extra nodes, 24 pruned nodes, max_depth=5\u001b[0m\n",
      "\u001b[31m[78]#011train-error:0.123023\u001b[0m\n",
      "\u001b[31m[05:54:29] src/tree/updater_prune.cc:74: tree pruning end, 1 roots, 14 extra nodes, 20 pruned nodes, max_depth=5\u001b[0m\n",
      "\u001b[31m[79]#011train-error:0.123488\u001b[0m\n",
      "\u001b[31m[05:54:29] src/tree/updater_prune.cc:74: tree pruning end, 1 roots, 10 extra nodes, 22 pruned nodes, max_depth=3\u001b[0m\n",
      "\u001b[31m[80]#011train-error:0.122093\u001b[0m\n",
      "\u001b[31m[05:54:29] src/tree/updater_prune.cc:74: tree pruning end, 1 roots, 10 extra nodes, 12 pruned nodes, max_depth=5\u001b[0m\n",
      "\u001b[31m[81]#011train-error:0.122326\u001b[0m\n",
      "\u001b[31m[05:54:29] src/tree/updater_prune.cc:74: tree pruning end, 1 roots, 10 extra nodes, 14 pruned nodes, max_depth=5\u001b[0m\n",
      "\u001b[31m[82]#011train-error:0.123023\u001b[0m\n",
      "\u001b[31m[05:54:29] src/tree/updater_prune.cc:74: tree pruning end, 1 roots, 4 extra nodes, 14 pruned nodes, max_depth=2\u001b[0m\n",
      "\u001b[31m[83]#011train-error:0.123023\u001b[0m\n",
      "\u001b[31m[05:54:29] src/tree/updater_prune.cc:74: tree pruning end, 1 roots, 0 extra nodes, 12 pruned nodes, max_depth=0\u001b[0m\n",
      "\u001b[31m[84]#011train-error:0.123023\u001b[0m\n",
      "\u001b[31m[05:54:29] src/tree/updater_prune.cc:74: tree pruning end, 1 roots, 10 extra nodes, 4 pruned nodes, max_depth=5\u001b[0m\n",
      "\u001b[31m[85]#011train-error:0.122326\u001b[0m\n",
      "\u001b[31m[05:54:29] src/tree/updater_prune.cc:74: tree pruning end, 1 roots, 10 extra nodes, 20 pruned nodes, max_depth=5\u001b[0m\n",
      "\u001b[31m[86]#011train-error:0.122791\u001b[0m\n",
      "\u001b[31m[05:54:29] src/tree/updater_prune.cc:74: tree pruning end, 1 roots, 8 extra nodes, 28 pruned nodes, max_depth=4\u001b[0m\n",
      "\u001b[31m[87]#011train-error:0.122558\u001b[0m\n",
      "\u001b[31m[05:54:29] src/tree/updater_prune.cc:74: tree pruning end, 1 roots, 8 extra nodes, 14 pruned nodes, max_depth=4\u001b[0m\n",
      "\u001b[31m[88]#011train-error:0.122093\u001b[0m\n",
      "\u001b[31m[05:54:29] src/tree/updater_prune.cc:74: tree pruning end, 1 roots, 4 extra nodes, 22 pruned nodes, max_depth=2\u001b[0m\n",
      "\u001b[31m[89]#011train-error:0.121628\u001b[0m\n",
      "\u001b[31m[05:54:29] src/tree/updater_prune.cc:74: tree pruning end, 1 roots, 10 extra nodes, 4 pruned nodes, max_depth=4\u001b[0m\n",
      "\u001b[31m[90]#011train-error:0.121395\u001b[0m\n",
      "\u001b[31m[05:54:29] src/tree/updater_prune.cc:74: tree pruning end, 1 roots, 6 extra nodes, 14 pruned nodes, max_depth=3\u001b[0m\n",
      "\u001b[31m[91]#011train-error:0.121628\u001b[0m\n",
      "\u001b[31m[05:54:29] src/tree/updater_prune.cc:74: tree pruning end, 1 roots, 8 extra nodes, 10 pruned nodes, max_depth=4\u001b[0m\n",
      "\u001b[31m[92]#011train-error:0.122558\u001b[0m\n",
      "\u001b[31m[05:54:29] src/tree/updater_prune.cc:74: tree pruning end, 1 roots, 4 extra nodes, 20 pruned nodes, max_depth=2\u001b[0m\n",
      "\u001b[31m[93]#011train-error:0.121628\u001b[0m\n",
      "\u001b[31m[05:54:29] src/tree/updater_prune.cc:74: tree pruning end, 1 roots, 12 extra nodes, 8 pruned nodes, max_depth=5\u001b[0m\n",
      "\u001b[31m[94]#011train-error:0.122093\u001b[0m\n",
      "\u001b[31m[05:54:29] src/tree/updater_prune.cc:74: tree pruning end, 1 roots, 0 extra nodes, 18 pruned nodes, max_depth=0\u001b[0m\n",
      "\u001b[31m[95]#011train-error:0.122326\u001b[0m\n",
      "\u001b[31m[05:54:29] src/tree/updater_prune.cc:74: tree pruning end, 1 roots, 0 extra nodes, 20 pruned nodes, max_depth=0\u001b[0m\n",
      "\u001b[31m[96]#011train-error:0.122326\u001b[0m\n",
      "\u001b[31m[05:54:29] src/tree/updater_prune.cc:74: tree pruning end, 1 roots, 8 extra nodes, 20 pruned nodes, max_depth=4\u001b[0m\n",
      "\u001b[31m[97]#011train-error:0.122093\u001b[0m\n",
      "\u001b[31m[05:54:29] src/tree/updater_prune.cc:74: tree pruning end, 1 roots, 10 extra nodes, 16 pruned nodes, max_depth=5\u001b[0m\n",
      "\u001b[31m[98]#011train-error:0.121628\u001b[0m\n",
      "\u001b[31m[05:54:29] src/tree/updater_prune.cc:74: tree pruning end, 1 roots, 0 extra nodes, 14 pruned nodes, max_depth=0\u001b[0m\n",
      "\u001b[31m[99]#011train-error:0.12186\u001b[0m\n",
      "\n",
      "2019-05-16 05:54:38 Completed - Training job completed\n",
      "Billable seconds: 43\n"
     ]
    }
   ],
   "source": [
    "xgboost_model = xgb.fit({'train': s3_input_train})"
   ]
  },
  {
   "cell_type": "markdown",
   "metadata": {},
   "source": [
    "# Deploying model on sagemaker"
   ]
  },
  {
   "cell_type": "code",
   "execution_count": 43,
   "metadata": {},
   "outputs": [
    {
     "name": "stdout",
     "output_type": "stream",
     "text": [
      "----------------------------------------------------------------------------------------!"
     ]
    }
   ],
   "source": [
    "xgb_predictor = xgb.deploy(initial_instance_count=1,instance_type='ml.m4.xlarge')"
   ]
  }
 ],
 "metadata": {
  "kernelspec": {
   "display_name": "Python 3",
   "language": "python",
   "name": "python3"
  },
  "language_info": {
   "codemirror_mode": {
    "name": "ipython",
    "version": 3
   },
   "file_extension": ".py",
   "mimetype": "text/x-python",
   "name": "python",
   "nbconvert_exporter": "python",
   "pygments_lexer": "ipython3",
   "version": "3.7.4"
  }
 },
 "nbformat": 4,
 "nbformat_minor": 2
}
